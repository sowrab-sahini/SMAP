{
  "nbformat": 4,
  "nbformat_minor": 0,
  "metadata": {
    "colab": {
      "name": "Untitled10.ipynb",
      "provenance": [],
      "collapsed_sections": []
    },
    "kernelspec": {
      "name": "python3",
      "display_name": "Python 3"
    },
    "language_info": {
      "name": "python"
    }
  },
  "cells": [
    {
      "cell_type": "code",
      "metadata": {
        "colab": {
          "base_uri": "https://localhost:8080/"
        },
        "id": "YN9lzka81BME",
        "outputId": "25446133-8611-45ad-8b78-658d8a952b16"
      },
      "source": [
        "import numpy as np\n",
        "import pandas as pd\n",
        "from nltk.classify import NaiveBayesClassifier\n",
        "from nltk.corpus import subjectivity\n",
        "from nltk.sentiment import SentimentAnalyzer\n",
        "from nltk.sentiment.util import *\n",
        "import matplotlib.pyplot as mlpt"
      ],
      "execution_count": 1,
      "outputs": [
        {
          "output_type": "stream",
          "name": "stderr",
          "text": [
            "/usr/local/lib/python3.7/dist-packages/nltk/twitter/__init__.py:20: UserWarning: The twython library has not been installed. Some functionality from the twitter package will not be available.\n",
            "  warnings.warn(\"The twython library has not been installed. \"\n"
          ]
        }
      ]
    },
    {
      "cell_type": "code",
      "metadata": {
        "id": "CsuqfUnH1Hgz"
      },
      "source": [
        "import tweepy\n",
        "import csv\n",
        "import pandas as pd\n",
        "import random\n",
        "import numpy as np\n",
        "import pandas as pd"
      ],
      "execution_count": 2,
      "outputs": []
    },
    {
      "cell_type": "code",
      "metadata": {
        "id": "bAMsBh2a1NNJ"
      },
      "source": [
        "consumer_key    = '3jmA1BqasLHfItBXj3KnAIGFB'\n",
        "consumer_secret = 'imyEeVTctFZuK62QHmL1I0AUAMudg5HKJDfkx0oR7oFbFinbvA'\n",
        "\n",
        "access_token  = '265857263-pF1DRxgIcxUbxEEFtLwLODPzD3aMl6d4zOKlMnme'\n",
        "access_token_secret = 'uUFoOOGeNJfOYD3atlcmPtaxxniXxQzAU4ESJLopA1lbC'\n",
        "\n",
        "auth = tweepy.OAuthHandler(consumer_key, consumer_secret)\n",
        "auth.set_access_token(access_token, access_token_secret)\n",
        "api = tweepy.API(auth,wait_on_rate_limit=True)"
      ],
      "execution_count": 3,
      "outputs": []
    },
    {
      "cell_type": "code",
      "metadata": {
        "id": "PK4UnLAu1Q-8"
      },
      "source": [
        "fetch_tweets=tweepy.Cursor(api.search, q=\"#AMZN\",count=100, lang =\"en\",since=\"2018-9-13\", tweet_mode=\"extended\").items()\n",
        "data=pd.DataFrame(data=[[tweet_info.created_at.date(),tweet_info.full_text]for tweet_info in fetch_tweets],columns=['Date','Tweets'])"
      ],
      "execution_count": 71,
      "outputs": []
    },
    {
      "cell_type": "code",
      "metadata": {
        "colab": {
          "base_uri": "https://localhost:8080/",
          "height": 424
        },
        "id": "igXgMkPS1U3k",
        "outputId": "ab7e4e69-5a9a-4d54-b17b-393db639d00c"
      },
      "source": [
        "data"
      ],
      "execution_count": 72,
      "outputs": [
        {
          "output_type": "execute_result",
          "data": {
            "text/html": [
              "<div>\n",
              "<style scoped>\n",
              "    .dataframe tbody tr th:only-of-type {\n",
              "        vertical-align: middle;\n",
              "    }\n",
              "\n",
              "    .dataframe tbody tr th {\n",
              "        vertical-align: top;\n",
              "    }\n",
              "\n",
              "    .dataframe thead th {\n",
              "        text-align: right;\n",
              "    }\n",
              "</style>\n",
              "<table border=\"1\" class=\"dataframe\">\n",
              "  <thead>\n",
              "    <tr style=\"text-align: right;\">\n",
              "      <th></th>\n",
              "      <th>Date</th>\n",
              "      <th>Tweets</th>\n",
              "    </tr>\n",
              "  </thead>\n",
              "  <tbody>\n",
              "    <tr>\n",
              "      <th>0</th>\n",
              "      <td>2021-12-01</td>\n",
              "      <td>The best of gifts are here: #AAPL #TSLA #MSFT ...</td>\n",
              "    </tr>\n",
              "    <tr>\n",
              "      <th>1</th>\n",
              "      <td>2021-12-01</td>\n",
              "      <td>#EURCAD All TPs Hit! 110 PIPS Profit🔥✅⭐️\\n\\nGo...</td>\n",
              "    </tr>\n",
              "    <tr>\n",
              "      <th>2</th>\n",
              "      <td>2021-12-01</td>\n",
              "      <td>The market toying with my emotions, i think im...</td>\n",
              "    </tr>\n",
              "    <tr>\n",
              "      <th>3</th>\n",
              "      <td>2021-12-01</td>\n",
              "      <td>Swinging some $AMZN 12/10/21 3500C's overnight...</td>\n",
              "    </tr>\n",
              "    <tr>\n",
              "      <th>4</th>\n",
              "      <td>2021-12-01</td>\n",
              "      <td>U were warned !! #amzn https://t.co/rf1tKnZpke</td>\n",
              "    </tr>\n",
              "    <tr>\n",
              "      <th>...</th>\n",
              "      <td>...</td>\n",
              "      <td>...</td>\n",
              "    </tr>\n",
              "    <tr>\n",
              "      <th>316</th>\n",
              "      <td>2021-11-23</td>\n",
              "      <td>@Jim_Jordan and how many of the missing 80K-Tr...</td>\n",
              "    </tr>\n",
              "    <tr>\n",
              "      <th>317</th>\n",
              "      <td>2021-11-23</td>\n",
              "      <td>$AMZN #AMZN - closed back into its most recent...</td>\n",
              "    </tr>\n",
              "    <tr>\n",
              "      <th>318</th>\n",
              "      <td>2021-11-23</td>\n",
              "      <td>Following were the Top 5 tickers mentioned on ...</td>\n",
              "    </tr>\n",
              "    <tr>\n",
              "      <th>319</th>\n",
              "      <td>2021-11-22</td>\n",
              "      <td>#marketing $gdet $vvs $cake $qnt #ma $woo $ast...</td>\n",
              "    </tr>\n",
              "    <tr>\n",
              "      <th>320</th>\n",
              "      <td>2021-11-22</td>\n",
              "      <td>$amzn flow bullish into the close, with the vi...</td>\n",
              "    </tr>\n",
              "  </tbody>\n",
              "</table>\n",
              "<p>321 rows × 2 columns</p>\n",
              "</div>"
            ],
            "text/plain": [
              "           Date                                             Tweets\n",
              "0    2021-12-01  The best of gifts are here: #AAPL #TSLA #MSFT ...\n",
              "1    2021-12-01  #EURCAD All TPs Hit! 110 PIPS Profit🔥✅⭐️\\n\\nGo...\n",
              "2    2021-12-01  The market toying with my emotions, i think im...\n",
              "3    2021-12-01  Swinging some $AMZN 12/10/21 3500C's overnight...\n",
              "4    2021-12-01     U were warned !! #amzn https://t.co/rf1tKnZpke\n",
              "..          ...                                                ...\n",
              "316  2021-11-23  @Jim_Jordan and how many of the missing 80K-Tr...\n",
              "317  2021-11-23  $AMZN #AMZN - closed back into its most recent...\n",
              "318  2021-11-23  Following were the Top 5 tickers mentioned on ...\n",
              "319  2021-11-22  #marketing $gdet $vvs $cake $qnt #ma $woo $ast...\n",
              "320  2021-11-22  $amzn flow bullish into the close, with the vi...\n",
              "\n",
              "[321 rows x 2 columns]"
            ]
          },
          "metadata": {},
          "execution_count": 72
        }
      ]
    },
    {
      "cell_type": "code",
      "metadata": {
        "colab": {
          "base_uri": "https://localhost:8080/"
        },
        "id": "85xvWLBf1Z_j",
        "outputId": "8385f5bf-f5ab-41bf-81c6-413916de64ab"
      },
      "source": [
        "data.to_csv(\"Tweets.csv\")\n",
        "cdata=pd.DataFrame(columns=['Date','Tweets'])\n",
        "total=100\n",
        "index=0\n",
        "for index,row in data.iterrows():\n",
        "    stre=row[\"Tweets\"]\n",
        "    my_new_string = re.sub('[^ a-zA-Z0-9]', '', stre)\n",
        "    temp_df = pd.DataFrame([[data[\"Date\"].iloc[index], \n",
        "                            my_new_string]], columns = ['Date','Tweets'])\n",
        "    cdata = pd.concat([cdata, temp_df], axis = 0).reset_index(drop = True)\n",
        "    index=index+1\n",
        "print(cdata.dtypes)"
      ],
      "execution_count": 73,
      "outputs": [
        {
          "output_type": "stream",
          "name": "stdout",
          "text": [
            "Date      object\n",
            "Tweets    object\n",
            "dtype: object\n"
          ]
        }
      ]
    },
    {
      "cell_type": "code",
      "metadata": {
        "colab": {
          "base_uri": "https://localhost:8080/",
          "height": 424
        },
        "id": "lwc3KKK61eF8",
        "outputId": "6ac77b54-899d-4ef7-dc60-72908568aa7b"
      },
      "source": [
        "cdata"
      ],
      "execution_count": 74,
      "outputs": [
        {
          "output_type": "execute_result",
          "data": {
            "text/html": [
              "<div>\n",
              "<style scoped>\n",
              "    .dataframe tbody tr th:only-of-type {\n",
              "        vertical-align: middle;\n",
              "    }\n",
              "\n",
              "    .dataframe tbody tr th {\n",
              "        vertical-align: top;\n",
              "    }\n",
              "\n",
              "    .dataframe thead th {\n",
              "        text-align: right;\n",
              "    }\n",
              "</style>\n",
              "<table border=\"1\" class=\"dataframe\">\n",
              "  <thead>\n",
              "    <tr style=\"text-align: right;\">\n",
              "      <th></th>\n",
              "      <th>Date</th>\n",
              "      <th>Tweets</th>\n",
              "    </tr>\n",
              "  </thead>\n",
              "  <tbody>\n",
              "    <tr>\n",
              "      <th>0</th>\n",
              "      <td>2021-12-01</td>\n",
              "      <td>The best of gifts are here AAPL TSLA MSFT AMZN...</td>\n",
              "    </tr>\n",
              "    <tr>\n",
              "      <th>1</th>\n",
              "      <td>2021-12-01</td>\n",
              "      <td>EURCAD All TPs Hit 110 PIPS ProfitGo and check...</td>\n",
              "    </tr>\n",
              "    <tr>\n",
              "      <th>2</th>\n",
              "      <td>2021-12-01</td>\n",
              "      <td>The market toying with my emotions i think im ...</td>\n",
              "    </tr>\n",
              "    <tr>\n",
              "      <th>3</th>\n",
              "      <td>2021-12-01</td>\n",
              "      <td>Swinging some AMZN 121021 3500Cs overnight At ...</td>\n",
              "    </tr>\n",
              "    <tr>\n",
              "      <th>4</th>\n",
              "      <td>2021-12-01</td>\n",
              "      <td>U were warned  amzn httpstcorf1tKnZpke</td>\n",
              "    </tr>\n",
              "    <tr>\n",
              "      <th>...</th>\n",
              "      <td>...</td>\n",
              "      <td>...</td>\n",
              "    </tr>\n",
              "    <tr>\n",
              "      <th>316</th>\n",
              "      <td>2021-11-23</td>\n",
              "      <td>JimJordan and how many of the missing 80KTruck...</td>\n",
              "    </tr>\n",
              "    <tr>\n",
              "      <th>317</th>\n",
              "      <td>2021-11-23</td>\n",
              "      <td>AMZN AMZN  closed back into its most recent re...</td>\n",
              "    </tr>\n",
              "    <tr>\n",
              "      <th>318</th>\n",
              "      <td>2021-11-23</td>\n",
              "      <td>Following were the Top 5 tickers mentioned on ...</td>\n",
              "    </tr>\n",
              "    <tr>\n",
              "      <th>319</th>\n",
              "      <td>2021-11-22</td>\n",
              "      <td>marketing gdet vvs cake qnt ma woo asts amzn a...</td>\n",
              "    </tr>\n",
              "    <tr>\n",
              "      <th>320</th>\n",
              "      <td>2021-11-22</td>\n",
              "      <td>amzn flow bullish into the close with the vibr...</td>\n",
              "    </tr>\n",
              "  </tbody>\n",
              "</table>\n",
              "<p>321 rows × 2 columns</p>\n",
              "</div>"
            ],
            "text/plain": [
              "           Date                                             Tweets\n",
              "0    2021-12-01  The best of gifts are here AAPL TSLA MSFT AMZN...\n",
              "1    2021-12-01  EURCAD All TPs Hit 110 PIPS ProfitGo and check...\n",
              "2    2021-12-01  The market toying with my emotions i think im ...\n",
              "3    2021-12-01  Swinging some AMZN 121021 3500Cs overnight At ...\n",
              "4    2021-12-01             U were warned  amzn httpstcorf1tKnZpke\n",
              "..          ...                                                ...\n",
              "316  2021-11-23  JimJordan and how many of the missing 80KTruck...\n",
              "317  2021-11-23  AMZN AMZN  closed back into its most recent re...\n",
              "318  2021-11-23  Following were the Top 5 tickers mentioned on ...\n",
              "319  2021-11-22  marketing gdet vvs cake qnt ma woo asts amzn a...\n",
              "320  2021-11-22  amzn flow bullish into the close with the vibr...\n",
              "\n",
              "[321 rows x 2 columns]"
            ]
          },
          "metadata": {},
          "execution_count": 74
        }
      ]
    },
    {
      "cell_type": "code",
      "metadata": {
        "id": "C5ulXULz1h_n"
      },
      "source": [
        "ccdata=pd.DataFrame(columns=['Date','Tweets'])"
      ],
      "execution_count": 78,
      "outputs": []
    },
    {
      "cell_type": "code",
      "metadata": {
        "id": "UmYQQs5M1luG"
      },
      "source": [
        "indx=0\n",
        "get_tweet=\"\"\n",
        "for i in range(0,len(cdata)-1):\n",
        "    get_date=cdata.Date.iloc[i]\n",
        "    next_date=cdata.Date.iloc[i+1]\n",
        "    if(str(get_date)==str(next_date)):\n",
        "        get_tweet=get_tweet+cdata.Tweets.iloc[i]+\" \"\n",
        "    if(str(get_date)!=str(next_date)):\n",
        "        temp_df = pd.DataFrame([[get_date, \n",
        "                                get_tweet]], columns = ['Date','Tweets'])\n",
        "        ccdata = pd.concat([ccdata, temp_df], axis = 0).reset_index(drop = True)\n",
        "        get_tweet=\" \""
      ],
      "execution_count": 79,
      "outputs": []
    },
    {
      "cell_type": "code",
      "metadata": {
        "colab": {
          "base_uri": "https://localhost:8080/",
          "height": 332
        },
        "id": "0ZYyK0XY1pCw",
        "outputId": "6b74f028-a5d7-4566-c606-3461a8a17a21"
      },
      "source": [
        "ccdata"
      ],
      "execution_count": 80,
      "outputs": [
        {
          "output_type": "execute_result",
          "data": {
            "text/html": [
              "<div>\n",
              "<style scoped>\n",
              "    .dataframe tbody tr th:only-of-type {\n",
              "        vertical-align: middle;\n",
              "    }\n",
              "\n",
              "    .dataframe tbody tr th {\n",
              "        vertical-align: top;\n",
              "    }\n",
              "\n",
              "    .dataframe thead th {\n",
              "        text-align: right;\n",
              "    }\n",
              "</style>\n",
              "<table border=\"1\" class=\"dataframe\">\n",
              "  <thead>\n",
              "    <tr style=\"text-align: right;\">\n",
              "      <th></th>\n",
              "      <th>Date</th>\n",
              "      <th>Tweets</th>\n",
              "    </tr>\n",
              "  </thead>\n",
              "  <tbody>\n",
              "    <tr>\n",
              "      <th>0</th>\n",
              "      <td>2021-12-01</td>\n",
              "      <td>The best of gifts are here AAPL TSLA MSFT AMZN...</td>\n",
              "    </tr>\n",
              "    <tr>\n",
              "      <th>1</th>\n",
              "      <td>2021-11-30</td>\n",
              "      <td>AMZN  DailyAMZN  so far disappointing perform...</td>\n",
              "    </tr>\n",
              "    <tr>\n",
              "      <th>2</th>\n",
              "      <td>2021-11-29</td>\n",
              "      <td>Blazing Stock Detected  20211129 Amazoncom I...</td>\n",
              "    </tr>\n",
              "    <tr>\n",
              "      <th>3</th>\n",
              "      <td>2021-11-28</td>\n",
              "      <td>AMZN AMZN35734511242021 10 Min OptionsYELLOWR...</td>\n",
              "    </tr>\n",
              "    <tr>\n",
              "      <th>4</th>\n",
              "      <td>2021-11-27</td>\n",
              "      <td>AMZN  Daily amp WeeklyAMZN  Was trying to tak...</td>\n",
              "    </tr>\n",
              "    <tr>\n",
              "      <th>5</th>\n",
              "      <td>2021-11-26</td>\n",
              "      <td>RT bestcopytrade jeppekirkbonde One of the be...</td>\n",
              "    </tr>\n",
              "    <tr>\n",
              "      <th>6</th>\n",
              "      <td>2021-11-25</td>\n",
              "      <td>Comparing Tesla to GM and Ford is like compar...</td>\n",
              "    </tr>\n",
              "    <tr>\n",
              "      <th>7</th>\n",
              "      <td>2021-11-24</td>\n",
              "      <td>I hate amzn Amazon 0 sustainable AMZN perfect...</td>\n",
              "    </tr>\n",
              "    <tr>\n",
              "      <th>8</th>\n",
              "      <td>2021-11-23</td>\n",
              "      <td>RT RippaDaKid Shop  httpstcoP8rXm9CXVg Follow...</td>\n",
              "    </tr>\n",
              "  </tbody>\n",
              "</table>\n",
              "</div>"
            ],
            "text/plain": [
              "         Date                                             Tweets\n",
              "0  2021-12-01  The best of gifts are here AAPL TSLA MSFT AMZN...\n",
              "1  2021-11-30   AMZN  DailyAMZN  so far disappointing perform...\n",
              "2  2021-11-29    Blazing Stock Detected  20211129 Amazoncom I...\n",
              "3  2021-11-28   AMZN AMZN35734511242021 10 Min OptionsYELLOWR...\n",
              "4  2021-11-27   AMZN  Daily amp WeeklyAMZN  Was trying to tak...\n",
              "5  2021-11-26   RT bestcopytrade jeppekirkbonde One of the be...\n",
              "6  2021-11-25   Comparing Tesla to GM and Ford is like compar...\n",
              "7  2021-11-24   I hate amzn Amazon 0 sustainable AMZN perfect...\n",
              "8  2021-11-23   RT RippaDaKid Shop  httpstcoP8rXm9CXVg Follow..."
            ]
          },
          "metadata": {},
          "execution_count": 80
        }
      ]
    },
    {
      "cell_type": "code",
      "metadata": {
        "colab": {
          "base_uri": "https://localhost:8080/",
          "height": 424
        },
        "id": "YM8eDYxW1s6P",
        "outputId": "9e4df2c5-b3a6-46d6-adad-d68d3f19b290"
      },
      "source": [
        "read_stock_p=pd.read_csv('AMZN.csv')\n",
        "# DOWNLOAD UPDATED CLOSE PRICE FROM https://finance.yahoo.com/quote/UAL/history?period1=1598918400&period2=1632268800&interval=1d&filter=history&frequency=1d&includeAdjustedClose=true\n",
        "read_stock_p"
      ],
      "execution_count": 81,
      "outputs": [
        {
          "output_type": "execute_result",
          "data": {
            "text/html": [
              "<div>\n",
              "<style scoped>\n",
              "    .dataframe tbody tr th:only-of-type {\n",
              "        vertical-align: middle;\n",
              "    }\n",
              "\n",
              "    .dataframe tbody tr th {\n",
              "        vertical-align: top;\n",
              "    }\n",
              "\n",
              "    .dataframe thead th {\n",
              "        text-align: right;\n",
              "    }\n",
              "</style>\n",
              "<table border=\"1\" class=\"dataframe\">\n",
              "  <thead>\n",
              "    <tr style=\"text-align: right;\">\n",
              "      <th></th>\n",
              "      <th>Date</th>\n",
              "      <th>Open</th>\n",
              "      <th>High</th>\n",
              "      <th>Low</th>\n",
              "      <th>Close</th>\n",
              "      <th>Adj Close</th>\n",
              "      <th>Volume</th>\n",
              "    </tr>\n",
              "  </thead>\n",
              "  <tbody>\n",
              "    <tr>\n",
              "      <th>0</th>\n",
              "      <td>2020-08-31</td>\n",
              "      <td>3408.989990</td>\n",
              "      <td>3495.000000</td>\n",
              "      <td>3405.000000</td>\n",
              "      <td>3450.959961</td>\n",
              "      <td>3450.959961</td>\n",
              "      <td>4185900</td>\n",
              "    </tr>\n",
              "    <tr>\n",
              "      <th>1</th>\n",
              "      <td>2020-09-01</td>\n",
              "      <td>3489.580078</td>\n",
              "      <td>3513.870117</td>\n",
              "      <td>3467.000000</td>\n",
              "      <td>3499.120117</td>\n",
              "      <td>3499.120117</td>\n",
              "      <td>3432200</td>\n",
              "    </tr>\n",
              "    <tr>\n",
              "      <th>2</th>\n",
              "      <td>2020-09-02</td>\n",
              "      <td>3547.000000</td>\n",
              "      <td>3552.250000</td>\n",
              "      <td>3486.689941</td>\n",
              "      <td>3531.449951</td>\n",
              "      <td>3531.449951</td>\n",
              "      <td>3931500</td>\n",
              "    </tr>\n",
              "    <tr>\n",
              "      <th>3</th>\n",
              "      <td>2020-09-03</td>\n",
              "      <td>3485.000000</td>\n",
              "      <td>3488.409912</td>\n",
              "      <td>3303.000000</td>\n",
              "      <td>3368.000000</td>\n",
              "      <td>3368.000000</td>\n",
              "      <td>8161100</td>\n",
              "    </tr>\n",
              "    <tr>\n",
              "      <th>4</th>\n",
              "      <td>2020-09-04</td>\n",
              "      <td>3318.000000</td>\n",
              "      <td>3381.500000</td>\n",
              "      <td>3111.129883</td>\n",
              "      <td>3294.620117</td>\n",
              "      <td>3294.620117</td>\n",
              "      <td>8781800</td>\n",
              "    </tr>\n",
              "    <tr>\n",
              "      <th>...</th>\n",
              "      <td>...</td>\n",
              "      <td>...</td>\n",
              "      <td>...</td>\n",
              "      <td>...</td>\n",
              "      <td>...</td>\n",
              "      <td>...</td>\n",
              "      <td>...</td>\n",
              "    </tr>\n",
              "    <tr>\n",
              "      <th>310</th>\n",
              "      <td>2021-11-22</td>\n",
              "      <td>3676.379883</td>\n",
              "      <td>3713.459961</td>\n",
              "      <td>3567.500000</td>\n",
              "      <td>3572.570068</td>\n",
              "      <td>3572.570068</td>\n",
              "      <td>4842200</td>\n",
              "    </tr>\n",
              "    <tr>\n",
              "      <th>311</th>\n",
              "      <td>2021-11-23</td>\n",
              "      <td>3585.040039</td>\n",
              "      <td>3621.050049</td>\n",
              "      <td>3527.709961</td>\n",
              "      <td>3580.040039</td>\n",
              "      <td>3580.040039</td>\n",
              "      <td>3690200</td>\n",
              "    </tr>\n",
              "    <tr>\n",
              "      <th>312</th>\n",
              "      <td>2021-11-24</td>\n",
              "      <td>3562.669922</td>\n",
              "      <td>3613.639893</td>\n",
              "      <td>3536.850098</td>\n",
              "      <td>3580.409912</td>\n",
              "      <td>3580.409912</td>\n",
              "      <td>2328000</td>\n",
              "    </tr>\n",
              "    <tr>\n",
              "      <th>313</th>\n",
              "      <td>2021-11-26</td>\n",
              "      <td>3602.100098</td>\n",
              "      <td>3633.500000</td>\n",
              "      <td>3504.149902</td>\n",
              "      <td>3504.560059</td>\n",
              "      <td>3504.560059</td>\n",
              "      <td>2991300</td>\n",
              "    </tr>\n",
              "    <tr>\n",
              "      <th>314</th>\n",
              "      <td>2021-11-29</td>\n",
              "      <td>3547.639893</td>\n",
              "      <td>3596.000000</td>\n",
              "      <td>3531.500000</td>\n",
              "      <td>3561.570068</td>\n",
              "      <td>3561.570068</td>\n",
              "      <td>3265600</td>\n",
              "    </tr>\n",
              "  </tbody>\n",
              "</table>\n",
              "<p>315 rows × 7 columns</p>\n",
              "</div>"
            ],
            "text/plain": [
              "           Date         Open         High  ...        Close    Adj Close   Volume\n",
              "0    2020-08-31  3408.989990  3495.000000  ...  3450.959961  3450.959961  4185900\n",
              "1    2020-09-01  3489.580078  3513.870117  ...  3499.120117  3499.120117  3432200\n",
              "2    2020-09-02  3547.000000  3552.250000  ...  3531.449951  3531.449951  3931500\n",
              "3    2020-09-03  3485.000000  3488.409912  ...  3368.000000  3368.000000  8161100\n",
              "4    2020-09-04  3318.000000  3381.500000  ...  3294.620117  3294.620117  8781800\n",
              "..          ...          ...          ...  ...          ...          ...      ...\n",
              "310  2021-11-22  3676.379883  3713.459961  ...  3572.570068  3572.570068  4842200\n",
              "311  2021-11-23  3585.040039  3621.050049  ...  3580.040039  3580.040039  3690200\n",
              "312  2021-11-24  3562.669922  3613.639893  ...  3580.409912  3580.409912  2328000\n",
              "313  2021-11-26  3602.100098  3633.500000  ...  3504.560059  3504.560059  2991300\n",
              "314  2021-11-29  3547.639893  3596.000000  ...  3561.570068  3561.570068  3265600\n",
              "\n",
              "[315 rows x 7 columns]"
            ]
          },
          "metadata": {},
          "execution_count": 81
        }
      ]
    },
    {
      "cell_type": "code",
      "metadata": {
        "id": "jgE6abF12fCb"
      },
      "source": [
        "ccdata['Prices']=\"\""
      ],
      "execution_count": 82,
      "outputs": []
    },
    {
      "cell_type": "code",
      "metadata": {
        "colab": {
          "base_uri": "https://localhost:8080/"
        },
        "id": "yv4FE-Pq2iHK",
        "outputId": "be2c7f8e-549d-463b-ee5c-ce78025f04a2"
      },
      "source": [
        "indx=0\n",
        "for i in range (0,len(ccdata)):\n",
        "    for j in range (0,len(read_stock_p)):\n",
        "        get_tweet_date=ccdata.Date.iloc[i]\n",
        "        get_stock_date=read_stock_p.Date.iloc[j]\n",
        "        if(str(get_stock_date)==str(get_tweet_date)):\n",
        "            print(get_stock_date,\" \",get_tweet_date)\n",
        "            #ccdata.set_value(i,'Prices',int(read_stock_p.Close[j]))\n",
        "            ccdata['Prices'].iloc[i] = int(read_stock_p.Close[j])"
      ],
      "execution_count": 83,
      "outputs": [
        {
          "output_type": "stream",
          "name": "stdout",
          "text": [
            "2021-11-29   2021-11-29\n",
            "2021-11-26   2021-11-26\n",
            "2021-11-24   2021-11-24\n",
            "2021-11-23   2021-11-23\n"
          ]
        }
      ]
    },
    {
      "cell_type": "code",
      "metadata": {
        "colab": {
          "base_uri": "https://localhost:8080/",
          "height": 332
        },
        "id": "dU_H3i3H2lMb",
        "outputId": "ae9e5291-ea02-4b23-a413-b30811896d27"
      },
      "source": [
        "ccdata"
      ],
      "execution_count": 84,
      "outputs": [
        {
          "output_type": "execute_result",
          "data": {
            "text/html": [
              "<div>\n",
              "<style scoped>\n",
              "    .dataframe tbody tr th:only-of-type {\n",
              "        vertical-align: middle;\n",
              "    }\n",
              "\n",
              "    .dataframe tbody tr th {\n",
              "        vertical-align: top;\n",
              "    }\n",
              "\n",
              "    .dataframe thead th {\n",
              "        text-align: right;\n",
              "    }\n",
              "</style>\n",
              "<table border=\"1\" class=\"dataframe\">\n",
              "  <thead>\n",
              "    <tr style=\"text-align: right;\">\n",
              "      <th></th>\n",
              "      <th>Date</th>\n",
              "      <th>Tweets</th>\n",
              "      <th>Prices</th>\n",
              "    </tr>\n",
              "  </thead>\n",
              "  <tbody>\n",
              "    <tr>\n",
              "      <th>0</th>\n",
              "      <td>2021-12-01</td>\n",
              "      <td>The best of gifts are here AAPL TSLA MSFT AMZN...</td>\n",
              "      <td></td>\n",
              "    </tr>\n",
              "    <tr>\n",
              "      <th>1</th>\n",
              "      <td>2021-11-30</td>\n",
              "      <td>AMZN  DailyAMZN  so far disappointing perform...</td>\n",
              "      <td></td>\n",
              "    </tr>\n",
              "    <tr>\n",
              "      <th>2</th>\n",
              "      <td>2021-11-29</td>\n",
              "      <td>Blazing Stock Detected  20211129 Amazoncom I...</td>\n",
              "      <td>3561</td>\n",
              "    </tr>\n",
              "    <tr>\n",
              "      <th>3</th>\n",
              "      <td>2021-11-28</td>\n",
              "      <td>AMZN AMZN35734511242021 10 Min OptionsYELLOWR...</td>\n",
              "      <td></td>\n",
              "    </tr>\n",
              "    <tr>\n",
              "      <th>4</th>\n",
              "      <td>2021-11-27</td>\n",
              "      <td>AMZN  Daily amp WeeklyAMZN  Was trying to tak...</td>\n",
              "      <td></td>\n",
              "    </tr>\n",
              "    <tr>\n",
              "      <th>5</th>\n",
              "      <td>2021-11-26</td>\n",
              "      <td>RT bestcopytrade jeppekirkbonde One of the be...</td>\n",
              "      <td>3504</td>\n",
              "    </tr>\n",
              "    <tr>\n",
              "      <th>6</th>\n",
              "      <td>2021-11-25</td>\n",
              "      <td>Comparing Tesla to GM and Ford is like compar...</td>\n",
              "      <td></td>\n",
              "    </tr>\n",
              "    <tr>\n",
              "      <th>7</th>\n",
              "      <td>2021-11-24</td>\n",
              "      <td>I hate amzn Amazon 0 sustainable AMZN perfect...</td>\n",
              "      <td>3580</td>\n",
              "    </tr>\n",
              "    <tr>\n",
              "      <th>8</th>\n",
              "      <td>2021-11-23</td>\n",
              "      <td>RT RippaDaKid Shop  httpstcoP8rXm9CXVg Follow...</td>\n",
              "      <td>3580</td>\n",
              "    </tr>\n",
              "  </tbody>\n",
              "</table>\n",
              "</div>"
            ],
            "text/plain": [
              "         Date                                             Tweets Prices\n",
              "0  2021-12-01  The best of gifts are here AAPL TSLA MSFT AMZN...       \n",
              "1  2021-11-30   AMZN  DailyAMZN  so far disappointing perform...       \n",
              "2  2021-11-29    Blazing Stock Detected  20211129 Amazoncom I...   3561\n",
              "3  2021-11-28   AMZN AMZN35734511242021 10 Min OptionsYELLOWR...       \n",
              "4  2021-11-27   AMZN  Daily amp WeeklyAMZN  Was trying to tak...       \n",
              "5  2021-11-26   RT bestcopytrade jeppekirkbonde One of the be...   3504\n",
              "6  2021-11-25   Comparing Tesla to GM and Ford is like compar...       \n",
              "7  2021-11-24   I hate amzn Amazon 0 sustainable AMZN perfect...   3580\n",
              "8  2021-11-23   RT RippaDaKid Shop  httpstcoP8rXm9CXVg Follow...   3580"
            ]
          },
          "metadata": {},
          "execution_count": 84
        }
      ]
    },
    {
      "cell_type": "code",
      "metadata": {
        "id": "EpQ5Oy2e2o7G"
      },
      "source": [
        "mean=0\n",
        "summ=0\n",
        "count=0\n",
        "for i in range(0,len(ccdata)):\n",
        "    if(ccdata.Prices.iloc[i]!=\"\"):\n",
        "        summ=summ+int(ccdata.Prices.iloc[i])\n",
        "        count=count+1\n",
        "mean=summ/count\n",
        "for i in range(0,len(ccdata)):\n",
        "    if(ccdata.Prices.iloc[i]==\"\"):\n",
        "        ccdata.Prices.iloc[i]=int(mean)"
      ],
      "execution_count": 85,
      "outputs": []
    },
    {
      "cell_type": "code",
      "metadata": {
        "colab": {
          "base_uri": "https://localhost:8080/",
          "height": 332
        },
        "id": "lWeLULmi57E1",
        "outputId": "9544852e-ca86-4239-f42c-605a4ed9dc8e"
      },
      "source": [
        "ccdata"
      ],
      "execution_count": 86,
      "outputs": [
        {
          "output_type": "execute_result",
          "data": {
            "text/html": [
              "<div>\n",
              "<style scoped>\n",
              "    .dataframe tbody tr th:only-of-type {\n",
              "        vertical-align: middle;\n",
              "    }\n",
              "\n",
              "    .dataframe tbody tr th {\n",
              "        vertical-align: top;\n",
              "    }\n",
              "\n",
              "    .dataframe thead th {\n",
              "        text-align: right;\n",
              "    }\n",
              "</style>\n",
              "<table border=\"1\" class=\"dataframe\">\n",
              "  <thead>\n",
              "    <tr style=\"text-align: right;\">\n",
              "      <th></th>\n",
              "      <th>Date</th>\n",
              "      <th>Tweets</th>\n",
              "      <th>Prices</th>\n",
              "    </tr>\n",
              "  </thead>\n",
              "  <tbody>\n",
              "    <tr>\n",
              "      <th>0</th>\n",
              "      <td>2021-12-01</td>\n",
              "      <td>The best of gifts are here AAPL TSLA MSFT AMZN...</td>\n",
              "      <td>3556</td>\n",
              "    </tr>\n",
              "    <tr>\n",
              "      <th>1</th>\n",
              "      <td>2021-11-30</td>\n",
              "      <td>AMZN  DailyAMZN  so far disappointing perform...</td>\n",
              "      <td>3556</td>\n",
              "    </tr>\n",
              "    <tr>\n",
              "      <th>2</th>\n",
              "      <td>2021-11-29</td>\n",
              "      <td>Blazing Stock Detected  20211129 Amazoncom I...</td>\n",
              "      <td>3561</td>\n",
              "    </tr>\n",
              "    <tr>\n",
              "      <th>3</th>\n",
              "      <td>2021-11-28</td>\n",
              "      <td>AMZN AMZN35734511242021 10 Min OptionsYELLOWR...</td>\n",
              "      <td>3556</td>\n",
              "    </tr>\n",
              "    <tr>\n",
              "      <th>4</th>\n",
              "      <td>2021-11-27</td>\n",
              "      <td>AMZN  Daily amp WeeklyAMZN  Was trying to tak...</td>\n",
              "      <td>3556</td>\n",
              "    </tr>\n",
              "    <tr>\n",
              "      <th>5</th>\n",
              "      <td>2021-11-26</td>\n",
              "      <td>RT bestcopytrade jeppekirkbonde One of the be...</td>\n",
              "      <td>3504</td>\n",
              "    </tr>\n",
              "    <tr>\n",
              "      <th>6</th>\n",
              "      <td>2021-11-25</td>\n",
              "      <td>Comparing Tesla to GM and Ford is like compar...</td>\n",
              "      <td>3556</td>\n",
              "    </tr>\n",
              "    <tr>\n",
              "      <th>7</th>\n",
              "      <td>2021-11-24</td>\n",
              "      <td>I hate amzn Amazon 0 sustainable AMZN perfect...</td>\n",
              "      <td>3580</td>\n",
              "    </tr>\n",
              "    <tr>\n",
              "      <th>8</th>\n",
              "      <td>2021-11-23</td>\n",
              "      <td>RT RippaDaKid Shop  httpstcoP8rXm9CXVg Follow...</td>\n",
              "      <td>3580</td>\n",
              "    </tr>\n",
              "  </tbody>\n",
              "</table>\n",
              "</div>"
            ],
            "text/plain": [
              "         Date                                             Tweets Prices\n",
              "0  2021-12-01  The best of gifts are here AAPL TSLA MSFT AMZN...   3556\n",
              "1  2021-11-30   AMZN  DailyAMZN  so far disappointing perform...   3556\n",
              "2  2021-11-29    Blazing Stock Detected  20211129 Amazoncom I...   3561\n",
              "3  2021-11-28   AMZN AMZN35734511242021 10 Min OptionsYELLOWR...   3556\n",
              "4  2021-11-27   AMZN  Daily amp WeeklyAMZN  Was trying to tak...   3556\n",
              "5  2021-11-26   RT bestcopytrade jeppekirkbonde One of the be...   3504\n",
              "6  2021-11-25   Comparing Tesla to GM and Ford is like compar...   3556\n",
              "7  2021-11-24   I hate amzn Amazon 0 sustainable AMZN perfect...   3580\n",
              "8  2021-11-23   RT RippaDaKid Shop  httpstcoP8rXm9CXVg Follow...   3580"
            ]
          },
          "metadata": {},
          "execution_count": 86
        }
      ]
    },
    {
      "cell_type": "code",
      "metadata": {
        "id": "MIybWDxD5-3J"
      },
      "source": [
        "ccdata['Prices'] = ccdata['Prices'].apply(np.int64)"
      ],
      "execution_count": 87,
      "outputs": []
    },
    {
      "cell_type": "code",
      "metadata": {
        "colab": {
          "base_uri": "https://localhost:8080/",
          "height": 332
        },
        "id": "jJMUNEAg6B5u",
        "outputId": "3347efb7-4e94-4b5f-f660-ba39963c085e"
      },
      "source": [
        "ccdata[\"Comp\"] = ''\n",
        "ccdata[\"Negative\"] = ''\n",
        "ccdata[\"Neutral\"] = ''\n",
        "ccdata[\"Positive\"] = ''\n",
        "ccdata"
      ],
      "execution_count": 88,
      "outputs": [
        {
          "output_type": "execute_result",
          "data": {
            "text/html": [
              "<div>\n",
              "<style scoped>\n",
              "    .dataframe tbody tr th:only-of-type {\n",
              "        vertical-align: middle;\n",
              "    }\n",
              "\n",
              "    .dataframe tbody tr th {\n",
              "        vertical-align: top;\n",
              "    }\n",
              "\n",
              "    .dataframe thead th {\n",
              "        text-align: right;\n",
              "    }\n",
              "</style>\n",
              "<table border=\"1\" class=\"dataframe\">\n",
              "  <thead>\n",
              "    <tr style=\"text-align: right;\">\n",
              "      <th></th>\n",
              "      <th>Date</th>\n",
              "      <th>Tweets</th>\n",
              "      <th>Prices</th>\n",
              "      <th>Comp</th>\n",
              "      <th>Negative</th>\n",
              "      <th>Neutral</th>\n",
              "      <th>Positive</th>\n",
              "    </tr>\n",
              "  </thead>\n",
              "  <tbody>\n",
              "    <tr>\n",
              "      <th>0</th>\n",
              "      <td>2021-12-01</td>\n",
              "      <td>The best of gifts are here AAPL TSLA MSFT AMZN...</td>\n",
              "      <td>3556</td>\n",
              "      <td></td>\n",
              "      <td></td>\n",
              "      <td></td>\n",
              "      <td></td>\n",
              "    </tr>\n",
              "    <tr>\n",
              "      <th>1</th>\n",
              "      <td>2021-11-30</td>\n",
              "      <td>AMZN  DailyAMZN  so far disappointing perform...</td>\n",
              "      <td>3556</td>\n",
              "      <td></td>\n",
              "      <td></td>\n",
              "      <td></td>\n",
              "      <td></td>\n",
              "    </tr>\n",
              "    <tr>\n",
              "      <th>2</th>\n",
              "      <td>2021-11-29</td>\n",
              "      <td>Blazing Stock Detected  20211129 Amazoncom I...</td>\n",
              "      <td>3561</td>\n",
              "      <td></td>\n",
              "      <td></td>\n",
              "      <td></td>\n",
              "      <td></td>\n",
              "    </tr>\n",
              "    <tr>\n",
              "      <th>3</th>\n",
              "      <td>2021-11-28</td>\n",
              "      <td>AMZN AMZN35734511242021 10 Min OptionsYELLOWR...</td>\n",
              "      <td>3556</td>\n",
              "      <td></td>\n",
              "      <td></td>\n",
              "      <td></td>\n",
              "      <td></td>\n",
              "    </tr>\n",
              "    <tr>\n",
              "      <th>4</th>\n",
              "      <td>2021-11-27</td>\n",
              "      <td>AMZN  Daily amp WeeklyAMZN  Was trying to tak...</td>\n",
              "      <td>3556</td>\n",
              "      <td></td>\n",
              "      <td></td>\n",
              "      <td></td>\n",
              "      <td></td>\n",
              "    </tr>\n",
              "    <tr>\n",
              "      <th>5</th>\n",
              "      <td>2021-11-26</td>\n",
              "      <td>RT bestcopytrade jeppekirkbonde One of the be...</td>\n",
              "      <td>3504</td>\n",
              "      <td></td>\n",
              "      <td></td>\n",
              "      <td></td>\n",
              "      <td></td>\n",
              "    </tr>\n",
              "    <tr>\n",
              "      <th>6</th>\n",
              "      <td>2021-11-25</td>\n",
              "      <td>Comparing Tesla to GM and Ford is like compar...</td>\n",
              "      <td>3556</td>\n",
              "      <td></td>\n",
              "      <td></td>\n",
              "      <td></td>\n",
              "      <td></td>\n",
              "    </tr>\n",
              "    <tr>\n",
              "      <th>7</th>\n",
              "      <td>2021-11-24</td>\n",
              "      <td>I hate amzn Amazon 0 sustainable AMZN perfect...</td>\n",
              "      <td>3580</td>\n",
              "      <td></td>\n",
              "      <td></td>\n",
              "      <td></td>\n",
              "      <td></td>\n",
              "    </tr>\n",
              "    <tr>\n",
              "      <th>8</th>\n",
              "      <td>2021-11-23</td>\n",
              "      <td>RT RippaDaKid Shop  httpstcoP8rXm9CXVg Follow...</td>\n",
              "      <td>3580</td>\n",
              "      <td></td>\n",
              "      <td></td>\n",
              "      <td></td>\n",
              "      <td></td>\n",
              "    </tr>\n",
              "  </tbody>\n",
              "</table>\n",
              "</div>"
            ],
            "text/plain": [
              "         Date  ... Positive\n",
              "0  2021-12-01  ...         \n",
              "1  2021-11-30  ...         \n",
              "2  2021-11-29  ...         \n",
              "3  2021-11-28  ...         \n",
              "4  2021-11-27  ...         \n",
              "5  2021-11-26  ...         \n",
              "6  2021-11-25  ...         \n",
              "7  2021-11-24  ...         \n",
              "8  2021-11-23  ...         \n",
              "\n",
              "[9 rows x 7 columns]"
            ]
          },
          "metadata": {},
          "execution_count": 88
        }
      ]
    },
    {
      "cell_type": "code",
      "metadata": {
        "colab": {
          "base_uri": "https://localhost:8080/"
        },
        "id": "vjB3U6AT6F4g",
        "outputId": "a450d5b7-2a95-4269-d038-07da5e1af635"
      },
      "source": [
        "import nltk\n",
        "nltk.download('vader_lexicon')"
      ],
      "execution_count": 89,
      "outputs": [
        {
          "output_type": "stream",
          "name": "stdout",
          "text": [
            "[nltk_data] Downloading package vader_lexicon to /root/nltk_data...\n",
            "[nltk_data]   Package vader_lexicon is already up-to-date!\n"
          ]
        },
        {
          "output_type": "execute_result",
          "data": {
            "text/plain": [
              "True"
            ]
          },
          "metadata": {},
          "execution_count": 89
        }
      ]
    },
    {
      "cell_type": "code",
      "metadata": {
        "colab": {
          "base_uri": "https://localhost:8080/"
        },
        "id": "yT6lKGr86JbX",
        "outputId": "be8ba88e-9622-4fa0-f639-4de6a89ac434"
      },
      "source": [
        "from nltk.sentiment.vader import SentimentIntensityAnalyzer\n",
        "from nltk.sentiment.vader import SentimentIntensityAnalyzer\n",
        "import unicodedata\n",
        "sentiment_i_a = SentimentIntensityAnalyzer()\n",
        "for indexx, row in ccdata.T.iteritems():\n",
        "    try:\n",
        "        sentence_i = unicodedata.normalize('NFKD', ccdata.loc[indexx, 'Tweets'])\n",
        "        sentence_sentiment = sentiment_i_a.polarity_scores(sentence_i)\n",
        "        ccdata['Comp'].iloc[indexx] = sentence_sentiment['compound']\n",
        "        ccdata['Negative'].iloc[indexx] = sentence_sentiment['neg']\n",
        "        ccdata['Neutral'].iloc[indexx] = sentence_sentiment['neu']\n",
        "        ccdata['Positive'].iloc[indexx] = sentence_sentiment['compound']\n",
        "        # ccdata.set_value(indexx, 'Comp', sentence_sentiment['pos'])\n",
        "        # ccdata.set_value(indexx, 'Negative', sentence_sentiment['neg'])\n",
        "        # ccdata.set_value(indexx, 'Neutral', sentence_sentiment['neu'])\n",
        "        # ccdata.set_value(indexx, 'Positive', sentence_sentiment['pos'])\n",
        "    except TypeError:\n",
        "        print (stocks_dataf.loc[indexx, 'Tweets'])\n",
        "        print (indexx)"
      ],
      "execution_count": 90,
      "outputs": [
        {
          "output_type": "stream",
          "name": "stderr",
          "text": [
            "/usr/local/lib/python3.7/dist-packages/pandas/core/indexing.py:670: SettingWithCopyWarning: \n",
            "A value is trying to be set on a copy of a slice from a DataFrame\n",
            "\n",
            "See the caveats in the documentation: https://pandas.pydata.org/pandas-docs/stable/user_guide/indexing.html#returning-a-view-versus-a-copy\n",
            "  iloc._setitem_with_indexer(indexer, value)\n"
          ]
        }
      ]
    },
    {
      "cell_type": "code",
      "metadata": {
        "colab": {
          "base_uri": "https://localhost:8080/",
          "height": 332
        },
        "id": "NVpn-K9X6NDo",
        "outputId": "a8480f93-2bbb-4688-aa28-55257b72224d"
      },
      "source": [
        "ccdata"
      ],
      "execution_count": 91,
      "outputs": [
        {
          "output_type": "execute_result",
          "data": {
            "text/html": [
              "<div>\n",
              "<style scoped>\n",
              "    .dataframe tbody tr th:only-of-type {\n",
              "        vertical-align: middle;\n",
              "    }\n",
              "\n",
              "    .dataframe tbody tr th {\n",
              "        vertical-align: top;\n",
              "    }\n",
              "\n",
              "    .dataframe thead th {\n",
              "        text-align: right;\n",
              "    }\n",
              "</style>\n",
              "<table border=\"1\" class=\"dataframe\">\n",
              "  <thead>\n",
              "    <tr style=\"text-align: right;\">\n",
              "      <th></th>\n",
              "      <th>Date</th>\n",
              "      <th>Tweets</th>\n",
              "      <th>Prices</th>\n",
              "      <th>Comp</th>\n",
              "      <th>Negative</th>\n",
              "      <th>Neutral</th>\n",
              "      <th>Positive</th>\n",
              "    </tr>\n",
              "  </thead>\n",
              "  <tbody>\n",
              "    <tr>\n",
              "      <th>0</th>\n",
              "      <td>2021-12-01</td>\n",
              "      <td>The best of gifts are here AAPL TSLA MSFT AMZN...</td>\n",
              "      <td>3556</td>\n",
              "      <td>0.9959</td>\n",
              "      <td>0.025</td>\n",
              "      <td>0.874</td>\n",
              "      <td>0.9959</td>\n",
              "    </tr>\n",
              "    <tr>\n",
              "      <th>1</th>\n",
              "      <td>2021-11-30</td>\n",
              "      <td>AMZN  DailyAMZN  so far disappointing perform...</td>\n",
              "      <td>3556</td>\n",
              "      <td>-0.9254</td>\n",
              "      <td>0.073</td>\n",
              "      <td>0.861</td>\n",
              "      <td>-0.9254</td>\n",
              "    </tr>\n",
              "    <tr>\n",
              "      <th>2</th>\n",
              "      <td>2021-11-29</td>\n",
              "      <td>Blazing Stock Detected  20211129 Amazoncom I...</td>\n",
              "      <td>3561</td>\n",
              "      <td>0.9848</td>\n",
              "      <td>0.025</td>\n",
              "      <td>0.922</td>\n",
              "      <td>0.9848</td>\n",
              "    </tr>\n",
              "    <tr>\n",
              "      <th>3</th>\n",
              "      <td>2021-11-28</td>\n",
              "      <td>AMZN AMZN35734511242021 10 Min OptionsYELLOWR...</td>\n",
              "      <td>3556</td>\n",
              "      <td>0.8942</td>\n",
              "      <td>0.03</td>\n",
              "      <td>0.907</td>\n",
              "      <td>0.8942</td>\n",
              "    </tr>\n",
              "    <tr>\n",
              "      <th>4</th>\n",
              "      <td>2021-11-27</td>\n",
              "      <td>AMZN  Daily amp WeeklyAMZN  Was trying to tak...</td>\n",
              "      <td>3556</td>\n",
              "      <td>0.773</td>\n",
              "      <td>0.041</td>\n",
              "      <td>0.842</td>\n",
              "      <td>0.773</td>\n",
              "    </tr>\n",
              "    <tr>\n",
              "      <th>5</th>\n",
              "      <td>2021-11-26</td>\n",
              "      <td>RT bestcopytrade jeppekirkbonde One of the be...</td>\n",
              "      <td>3504</td>\n",
              "      <td>0.9139</td>\n",
              "      <td>0.056</td>\n",
              "      <td>0.835</td>\n",
              "      <td>0.9139</td>\n",
              "    </tr>\n",
              "    <tr>\n",
              "      <th>6</th>\n",
              "      <td>2021-11-25</td>\n",
              "      <td>Comparing Tesla to GM and Ford is like compar...</td>\n",
              "      <td>3556</td>\n",
              "      <td>0.8668</td>\n",
              "      <td>0.059</td>\n",
              "      <td>0.831</td>\n",
              "      <td>0.8668</td>\n",
              "    </tr>\n",
              "    <tr>\n",
              "      <th>7</th>\n",
              "      <td>2021-11-24</td>\n",
              "      <td>I hate amzn Amazon 0 sustainable AMZN perfect...</td>\n",
              "      <td>3580</td>\n",
              "      <td>0.9983</td>\n",
              "      <td>0.082</td>\n",
              "      <td>0.765</td>\n",
              "      <td>0.9983</td>\n",
              "    </tr>\n",
              "    <tr>\n",
              "      <th>8</th>\n",
              "      <td>2021-11-23</td>\n",
              "      <td>RT RippaDaKid Shop  httpstcoP8rXm9CXVg Follow...</td>\n",
              "      <td>3580</td>\n",
              "      <td>0.997</td>\n",
              "      <td>0.037</td>\n",
              "      <td>0.825</td>\n",
              "      <td>0.997</td>\n",
              "    </tr>\n",
              "  </tbody>\n",
              "</table>\n",
              "</div>"
            ],
            "text/plain": [
              "         Date  ... Positive\n",
              "0  2021-12-01  ...   0.9959\n",
              "1  2021-11-30  ...  -0.9254\n",
              "2  2021-11-29  ...   0.9848\n",
              "3  2021-11-28  ...   0.8942\n",
              "4  2021-11-27  ...    0.773\n",
              "5  2021-11-26  ...   0.9139\n",
              "6  2021-11-25  ...   0.8668\n",
              "7  2021-11-24  ...   0.9983\n",
              "8  2021-11-23  ...    0.997\n",
              "\n",
              "[9 rows x 7 columns]"
            ]
          },
          "metadata": {},
          "execution_count": 91
        }
      ]
    },
    {
      "cell_type": "code",
      "metadata": {
        "colab": {
          "base_uri": "https://localhost:8080/",
          "height": 300
        },
        "id": "SrIKdZYB6QdI",
        "outputId": "50308697-07d6-4839-e229-891c2fcdd73b"
      },
      "source": [
        "posi=0\n",
        "nega=0\n",
        "for i in range (0,len(ccdata)):\n",
        "    get_val=ccdata.Comp[i]\n",
        "    if(float(get_val)<(0)):\n",
        "        nega=nega+1\n",
        "    if(float(get_val>(0))):\n",
        "        posi=posi+1\n",
        "posper=(posi/(len(ccdata)))*100\n",
        "negper=(nega/(len(ccdata)))*100\n",
        "print(\"% of positive tweets= \",posper)\n",
        "print(\"% of negative tweets= \",negper)\n",
        "arr=np.asarray([posper,negper], dtype=int)\n",
        "mlpt.pie(arr,labels=['positive','negative'])\n",
        "mlpt.plot()"
      ],
      "execution_count": 92,
      "outputs": [
        {
          "output_type": "stream",
          "name": "stdout",
          "text": [
            "% of positive tweets=  88.88888888888889\n",
            "% of negative tweets=  11.11111111111111\n"
          ]
        },
        {
          "output_type": "execute_result",
          "data": {
            "text/plain": [
              "[]"
            ]
          },
          "metadata": {},
          "execution_count": 92
        },
        {
          "output_type": "display_data",
          "data": {
            "image/png": "[encoded data removed]",
            "text/plain": [
              "<Figure size 432x288 with 1 Axes>"
            ]
          },
          "metadata": {}
        }
      ]
    },
    {
      "cell_type": "code",
      "metadata": {
        "id": "UdLqMiqo6clC"
      },
      "source": [
        "df_=ccdata[['Date','Prices','Comp','Negative','Neutral','Positive']].copy()"
      ],
      "execution_count": 93,
      "outputs": []
    },
    {
      "cell_type": "code",
      "metadata": {
        "colab": {
          "base_uri": "https://localhost:8080/",
          "height": 332
        },
        "id": "AP4sVxeM6fs6",
        "outputId": "a62531df-ac0c-4adc-a479-c47a7644ff96"
      },
      "source": [
        "df_"
      ],
      "execution_count": 94,
      "outputs": [
        {
          "output_type": "execute_result",
          "data": {
            "text/html": [
              "<div>\n",
              "<style scoped>\n",
              "    .dataframe tbody tr th:only-of-type {\n",
              "        vertical-align: middle;\n",
              "    }\n",
              "\n",
              "    .dataframe tbody tr th {\n",
              "        vertical-align: top;\n",
              "    }\n",
              "\n",
              "    .dataframe thead th {\n",
              "        text-align: right;\n",
              "    }\n",
              "</style>\n",
              "<table border=\"1\" class=\"dataframe\">\n",
              "  <thead>\n",
              "    <tr style=\"text-align: right;\">\n",
              "      <th></th>\n",
              "      <th>Date</th>\n",
              "      <th>Prices</th>\n",
              "      <th>Comp</th>\n",
              "      <th>Negative</th>\n",
              "      <th>Neutral</th>\n",
              "      <th>Positive</th>\n",
              "    </tr>\n",
              "  </thead>\n",
              "  <tbody>\n",
              "    <tr>\n",
              "      <th>0</th>\n",
              "      <td>2021-12-01</td>\n",
              "      <td>3556</td>\n",
              "      <td>0.9959</td>\n",
              "      <td>0.025</td>\n",
              "      <td>0.874</td>\n",
              "      <td>0.9959</td>\n",
              "    </tr>\n",
              "    <tr>\n",
              "      <th>1</th>\n",
              "      <td>2021-11-30</td>\n",
              "      <td>3556</td>\n",
              "      <td>-0.9254</td>\n",
              "      <td>0.073</td>\n",
              "      <td>0.861</td>\n",
              "      <td>-0.9254</td>\n",
              "    </tr>\n",
              "    <tr>\n",
              "      <th>2</th>\n",
              "      <td>2021-11-29</td>\n",
              "      <td>3561</td>\n",
              "      <td>0.9848</td>\n",
              "      <td>0.025</td>\n",
              "      <td>0.922</td>\n",
              "      <td>0.9848</td>\n",
              "    </tr>\n",
              "    <tr>\n",
              "      <th>3</th>\n",
              "      <td>2021-11-28</td>\n",
              "      <td>3556</td>\n",
              "      <td>0.8942</td>\n",
              "      <td>0.03</td>\n",
              "      <td>0.907</td>\n",
              "      <td>0.8942</td>\n",
              "    </tr>\n",
              "    <tr>\n",
              "      <th>4</th>\n",
              "      <td>2021-11-27</td>\n",
              "      <td>3556</td>\n",
              "      <td>0.773</td>\n",
              "      <td>0.041</td>\n",
              "      <td>0.842</td>\n",
              "      <td>0.773</td>\n",
              "    </tr>\n",
              "    <tr>\n",
              "      <th>5</th>\n",
              "      <td>2021-11-26</td>\n",
              "      <td>3504</td>\n",
              "      <td>0.9139</td>\n",
              "      <td>0.056</td>\n",
              "      <td>0.835</td>\n",
              "      <td>0.9139</td>\n",
              "    </tr>\n",
              "    <tr>\n",
              "      <th>6</th>\n",
              "      <td>2021-11-25</td>\n",
              "      <td>3556</td>\n",
              "      <td>0.8668</td>\n",
              "      <td>0.059</td>\n",
              "      <td>0.831</td>\n",
              "      <td>0.8668</td>\n",
              "    </tr>\n",
              "    <tr>\n",
              "      <th>7</th>\n",
              "      <td>2021-11-24</td>\n",
              "      <td>3580</td>\n",
              "      <td>0.9983</td>\n",
              "      <td>0.082</td>\n",
              "      <td>0.765</td>\n",
              "      <td>0.9983</td>\n",
              "    </tr>\n",
              "    <tr>\n",
              "      <th>8</th>\n",
              "      <td>2021-11-23</td>\n",
              "      <td>3580</td>\n",
              "      <td>0.997</td>\n",
              "      <td>0.037</td>\n",
              "      <td>0.825</td>\n",
              "      <td>0.997</td>\n",
              "    </tr>\n",
              "  </tbody>\n",
              "</table>\n",
              "</div>"
            ],
            "text/plain": [
              "         Date  Prices    Comp Negative Neutral Positive\n",
              "0  2021-12-01    3556  0.9959    0.025   0.874   0.9959\n",
              "1  2021-11-30    3556 -0.9254    0.073   0.861  -0.9254\n",
              "2  2021-11-29    3561  0.9848    0.025   0.922   0.9848\n",
              "3  2021-11-28    3556  0.8942     0.03   0.907   0.8942\n",
              "4  2021-11-27    3556   0.773    0.041   0.842    0.773\n",
              "5  2021-11-26    3504  0.9139    0.056   0.835   0.9139\n",
              "6  2021-11-25    3556  0.8668    0.059   0.831   0.8668\n",
              "7  2021-11-24    3580  0.9983    0.082   0.765   0.9983\n",
              "8  2021-11-23    3580   0.997    0.037   0.825    0.997"
            ]
          },
          "metadata": {},
          "execution_count": 94
        }
      ]
    },
    {
      "cell_type": "code",
      "metadata": {
        "id": "5ybgx97T6jan"
      },
      "source": [
        "train_start_index = '0'\n",
        "train_end_index = '5'\n",
        "test_start_index = '6'\n",
        "test_end_index = '8'\n",
        "train = df_.loc[train_start_index : train_end_index,:]\n",
        "test = df_.loc[test_start_index:test_end_index,:]"
      ],
      "execution_count": 95,
      "outputs": []
    },
    {
      "cell_type": "code",
      "metadata": {
        "id": "zz0Fz49x6mjX"
      },
      "source": [
        "sentiment_score_list = []\n",
        "for date, row in train.T.iteritems():\n",
        "    sentiment_score = np.asarray([df_.loc[date, 'Negative'],df_.loc[date, 'Positive']])\n",
        "    sentiment_score_list.append(sentiment_score)\n",
        "numpy_df_train = np.asarray(sentiment_score_list)"
      ],
      "execution_count": 96,
      "outputs": []
    },
    {
      "cell_type": "code",
      "metadata": {
        "colab": {
          "base_uri": "https://localhost:8080/"
        },
        "id": "koBFXvL26pd8",
        "outputId": "bce1f970-138c-4d89-8044-bbe838ab7d3f"
      },
      "source": [
        "print(numpy_df_train)"
      ],
      "execution_count": 45,
      "outputs": [
        {
          "output_type": "stream",
          "name": "stdout",
          "text": [
            "[[0.023  0.9971]\n",
            " [0.024  1.    ]\n",
            " [0.054  0.9995]\n",
            " [0.055  0.9908]\n",
            " [0.105  0.9525]\n",
            " [0.06   0.9966]]\n"
          ]
        }
      ]
    },
    {
      "cell_type": "code",
      "metadata": {
        "id": "IAAYsSle6sy3"
      },
      "source": [
        "sentiment_score_list = []\n",
        "for date, row in test.T.iteritems():\n",
        "    sentiment_score = np.asarray([df_.loc[date, 'Negative'],df_.loc[date, 'Positive']])\n",
        "    sentiment_score_list.append(sentiment_score)\n",
        "numpy_df_test = np.asarray(sentiment_score_list)"
      ],
      "execution_count": 46,
      "outputs": []
    },
    {
      "cell_type": "code",
      "metadata": {
        "colab": {
          "base_uri": "https://localhost:8080/"
        },
        "id": "Lz0__v-s6vu0",
        "outputId": "1a228cf0-9386-46ca-e5fd-d5238d387490"
      },
      "source": [
        "print(numpy_df_test)"
      ],
      "execution_count": 97,
      "outputs": [
        {
          "output_type": "stream",
          "name": "stdout",
          "text": [
            "[[0.027  0.9976]\n",
            " [0.034  0.9985]\n",
            " [0.023  0.9972]]\n"
          ]
        }
      ]
    },
    {
      "cell_type": "code",
      "metadata": {
        "colab": {
          "base_uri": "https://localhost:8080/"
        },
        "id": "dVvR260Y6ze9",
        "outputId": "56c2c4e1-d6e6-4b84-b578-5fdb26464294"
      },
      "source": [
        "y_train = pd.DataFrame(train['Prices'])\n",
        "#y_train=[91,91,91,92,91,92,91]\n",
        "y_test = pd.DataFrame(test['Prices'])\n",
        "print(y_train)"
      ],
      "execution_count": 101,
      "outputs": [
        {
          "output_type": "stream",
          "name": "stdout",
          "text": [
            "   Prices\n",
            "0    3556\n",
            "1    3556\n",
            "2    3561\n",
            "3    3556\n",
            "4    3556\n",
            "5    3504\n"
          ]
        }
      ]
    },
    {
      "cell_type": "code",
      "metadata": {
        "colab": {
          "base_uri": "https://localhost:8080/"
        },
        "id": "DJ2srBHW63Ag",
        "outputId": "90e14986-4841-42f8-80b9-f912c9184c12"
      },
      "source": [
        "# from treeinterpreter import treeinterpreter as ti\n",
        "from sklearn.tree import DecisionTreeRegressor\n",
        "from sklearn.ensemble import RandomForestRegressor\n",
        "from sklearn.metrics import classification_report,confusion_matrix\n",
        "\n",
        "rf = RandomForestRegressor()\n",
        "rf.fit(numpy_df_train, y_train)"
      ],
      "execution_count": 99,
      "outputs": [
        {
          "output_type": "stream",
          "name": "stderr",
          "text": [
            "/usr/local/lib/python3.7/dist-packages/ipykernel_launcher.py:7: DataConversionWarning: A column-vector y was passed when a 1d array was expected. Please change the shape of y to (n_samples,), for example using ravel().\n",
            "  import sys\n"
          ]
        },
        {
          "output_type": "execute_result",
          "data": {
            "text/plain": [
              "RandomForestRegressor()"
            ]
          },
          "metadata": {},
          "execution_count": 99
        }
      ]
    },
    {
      "cell_type": "code",
      "metadata": {
        "id": "CFVPNoqF7D_w"
      },
      "source": [
        "prediction = rf.predict(numpy_df_test)"
      ],
      "execution_count": 102,
      "outputs": []
    },
    {
      "cell_type": "code",
      "metadata": {
        "colab": {
          "base_uri": "https://localhost:8080/"
        },
        "id": "0mPqacFj7HGR",
        "outputId": "73ccece7-dae2-4b4f-9296-805805c4a168"
      },
      "source": [
        "print(prediction)"
      ],
      "execution_count": 103,
      "outputs": [
        {
          "output_type": "stream",
          "name": "stdout",
          "text": [
            "[3552.47 3551.92 3552.47]\n"
          ]
        }
      ]
    },
    {
      "cell_type": "code",
      "metadata": {
        "id": "v1Q_sRDT7K7E"
      },
      "source": [
        "import matplotlib.pyplot as plt"
      ],
      "execution_count": 104,
      "outputs": []
    },
    {
      "cell_type": "code",
      "metadata": {
        "id": "2-tYLBrL7N_e"
      },
      "source": [
        "idx=np.arange(int(test_start_index),int(test_end_index)+1)\n",
        "predictions_df_ = pd.DataFrame(data=prediction[0:], index = idx, columns=['Prices'])"
      ],
      "execution_count": 105,
      "outputs": []
    },
    {
      "cell_type": "code",
      "metadata": {
        "colab": {
          "base_uri": "https://localhost:8080/",
          "height": 143
        },
        "id": "xzixlNG-7Q-1",
        "outputId": "49f7d1df-8d85-461a-c5ff-4f6de01fe0cc"
      },
      "source": [
        "predictions_df_"
      ],
      "execution_count": 106,
      "outputs": [
        {
          "output_type": "execute_result",
          "data": {
            "text/html": [
              "<div>\n",
              "<style scoped>\n",
              "    .dataframe tbody tr th:only-of-type {\n",
              "        vertical-align: middle;\n",
              "    }\n",
              "\n",
              "    .dataframe tbody tr th {\n",
              "        vertical-align: top;\n",
              "    }\n",
              "\n",
              "    .dataframe thead th {\n",
              "        text-align: right;\n",
              "    }\n",
              "</style>\n",
              "<table border=\"1\" class=\"dataframe\">\n",
              "  <thead>\n",
              "    <tr style=\"text-align: right;\">\n",
              "      <th></th>\n",
              "      <th>Prices</th>\n",
              "    </tr>\n",
              "  </thead>\n",
              "  <tbody>\n",
              "    <tr>\n",
              "      <th>6</th>\n",
              "      <td>3552.47</td>\n",
              "    </tr>\n",
              "    <tr>\n",
              "      <th>7</th>\n",
              "      <td>3551.92</td>\n",
              "    </tr>\n",
              "    <tr>\n",
              "      <th>8</th>\n",
              "      <td>3552.47</td>\n",
              "    </tr>\n",
              "  </tbody>\n",
              "</table>\n",
              "</div>"
            ],
            "text/plain": [
              "    Prices\n",
              "6  3552.47\n",
              "7  3551.92\n",
              "8  3552.47"
            ]
          },
          "metadata": {},
          "execution_count": 106
        }
      ]
    },
    {
      "cell_type": "code",
      "metadata": {
        "colab": {
          "base_uri": "https://localhost:8080/",
          "height": 295
        },
        "id": "wuRG_Ank7Umj",
        "outputId": "fd1f52b5-9716-4ff4-fb03-47755e28d6b3"
      },
      "source": [
        "ax = predictions_df_.rename(columns={\"Prices\": \"predicted_price\"}).plot(title='Random Forest predicted prices')#predicted value\n",
        "ax.set_xlabel(\"Indexes\")\n",
        "ax.set_ylabel(\"Stock Prices\")\n",
        "fig = y_test.rename(columns={\"Prices\": \"actual_price\"}).plot(ax = ax).get_figure()#actual value\n",
        "fig.savefig(\"random forest.png\")"
      ],
      "execution_count": 107,
      "outputs": [
        {
          "output_type": "display_data",
          "data": {
            "image/png": "[encoded data removed]",
            "text/plain": [
              "<Figure size 432x288 with 1 Axes>"
            ]
          },
          "metadata": {
            "needs_background": "light"
          }
        }
      ]
    },
    {
      "cell_type": "code",
      "metadata": {
        "colab": {
          "base_uri": "https://localhost:8080/"
        },
        "id": "El0FzALE7Yje",
        "outputId": "78f29917-65cc-469e-c68a-d42c155caa69"
      },
      "source": [
        "# from treeinterpreter import treeinterpreter as ti\n",
        "# from sklearn.tree import DecisionTreeRegressor\n",
        "from sklearn.linear_model import LinearRegression\n",
        "from sklearn.metrics import classification_report,confusion_matrix\n",
        "\n",
        "reg = LinearRegression()\n",
        "reg.fit(numpy_df_train, y_train)"
      ],
      "execution_count": 108,
      "outputs": [
        {
          "output_type": "execute_result",
          "data": {
            "text/plain": [
              "LinearRegression()"
            ]
          },
          "metadata": {},
          "execution_count": 108
        }
      ]
    },
    {
      "cell_type": "code",
      "metadata": {
        "colab": {
          "base_uri": "https://localhost:8080/"
        },
        "id": "AkQxNm_H7cJP",
        "outputId": "b0d16405-07e6-4e14-bbdc-2f34294de61d"
      },
      "source": [
        "reg.predict(numpy_df_test)"
      ],
      "execution_count": 59,
      "outputs": [
        {
          "output_type": "execute_result",
          "data": {
            "text/plain": [
              "array([[44.01525092],\n",
              "       [43.52523267],\n",
              "       [44.28369371]])"
            ]
          },
          "metadata": {},
          "execution_count": 59
        }
      ]
    },
    {
      "cell_type": "code",
      "metadata": {
        "id": "-A5Ui6wi74iA"
      },
      "source": [
        "stocks_dataf = pd.read_pickle('Twitter_Dataset.pkl')\n",
        "stocks_dataf.columns=['closing_price','adj_close_price','Tweets']"
      ],
      "execution_count": 110,
      "outputs": []
    },
    {
      "cell_type": "code",
      "metadata": {
        "colab": {
          "base_uri": "https://localhost:8080/",
          "height": 424
        },
        "id": "l41SCftY78Sw",
        "outputId": "7c5b92ec-d19d-42f1-a2bc-afef2a462186"
      },
      "source": [
        "stocks_dataf"
      ],
      "execution_count": 111,
      "outputs": [
        {
          "output_type": "execute_result",
          "data": {
            "text/html": [
              "<div>\n",
              "<style scoped>\n",
              "    .dataframe tbody tr th:only-of-type {\n",
              "        vertical-align: middle;\n",
              "    }\n",
              "\n",
              "    .dataframe tbody tr th {\n",
              "        vertical-align: top;\n",
              "    }\n",
              "\n",
              "    .dataframe thead th {\n",
              "        text-align: right;\n",
              "    }\n",
              "</style>\n",
              "<table border=\"1\" class=\"dataframe\">\n",
              "  <thead>\n",
              "    <tr style=\"text-align: right;\">\n",
              "      <th></th>\n",
              "      <th>closing_price</th>\n",
              "      <th>adj_close_price</th>\n",
              "      <th>Tweets</th>\n",
              "    </tr>\n",
              "  </thead>\n",
              "  <tbody>\n",
              "    <tr>\n",
              "      <th>2007-01-01</th>\n",
              "      <td>12469.971875</td>\n",
              "      <td>12469.971875</td>\n",
              "      <td>. What Sticks from '06. Somalia Orders Islamis...</td>\n",
              "    </tr>\n",
              "    <tr>\n",
              "      <th>2007-01-02</th>\n",
              "      <td>12472.245703</td>\n",
              "      <td>12472.245703</td>\n",
              "      <td>. Heart Health: Vitamin Does Not Prevent Death...</td>\n",
              "    </tr>\n",
              "    <tr>\n",
              "      <th>2007-01-03</th>\n",
              "      <td>12474.519531</td>\n",
              "      <td>12474.519531</td>\n",
              "      <td>. Google Answer to Filling Jobs Is an Algorith...</td>\n",
              "    </tr>\n",
              "    <tr>\n",
              "      <th>2007-01-04</th>\n",
              "      <td>12480.690430</td>\n",
              "      <td>12480.690430</td>\n",
              "      <td>. Helping Make the Shift From Combat to Commer...</td>\n",
              "    </tr>\n",
              "    <tr>\n",
              "      <th>2007-01-05</th>\n",
              "      <td>12398.009766</td>\n",
              "      <td>12398.009766</td>\n",
              "      <td>. Rise in Ethanol Raises Concerns About Corn a...</td>\n",
              "    </tr>\n",
              "    <tr>\n",
              "      <th>...</th>\n",
              "      <td>...</td>\n",
              "      <td>...</td>\n",
              "      <td>...</td>\n",
              "    </tr>\n",
              "    <tr>\n",
              "      <th>2016-12-27</th>\n",
              "      <td>19945.039062</td>\n",
              "      <td>19945.039062</td>\n",
              "      <td>. Should the U.S. Embassy Be Moved From Tel Av...</td>\n",
              "    </tr>\n",
              "    <tr>\n",
              "      <th>2016-12-28</th>\n",
              "      <td>19833.679688</td>\n",
              "      <td>19833.679688</td>\n",
              "      <td>. When Finding the Right Lawyer Seems Daunting...</td>\n",
              "    </tr>\n",
              "    <tr>\n",
              "      <th>2016-12-29</th>\n",
              "      <td>19819.779297</td>\n",
              "      <td>19819.779297</td>\n",
              "      <td>. Does Empathy Guide or Hinder Moral Action?. ...</td>\n",
              "    </tr>\n",
              "    <tr>\n",
              "      <th>2016-12-30</th>\n",
              "      <td>19762.599609</td>\n",
              "      <td>19762.599609</td>\n",
              "      <td>. Shielding Seized Assets From Corruption’s Cl...</td>\n",
              "    </tr>\n",
              "    <tr>\n",
              "      <th>2016-12-31</th>\n",
              "      <td>19762.599609</td>\n",
              "      <td>19762.599609</td>\n",
              "      <td>Terrorist Attack at Nightclub in Istanbul Kill...</td>\n",
              "    </tr>\n",
              "  </tbody>\n",
              "</table>\n",
              "<p>3653 rows × 3 columns</p>\n",
              "</div>"
            ],
            "text/plain": [
              "            closing_price  ...                                             Tweets\n",
              "2007-01-01   12469.971875  ...  . What Sticks from '06. Somalia Orders Islamis...\n",
              "2007-01-02   12472.245703  ...  . Heart Health: Vitamin Does Not Prevent Death...\n",
              "2007-01-03   12474.519531  ...  . Google Answer to Filling Jobs Is an Algorith...\n",
              "2007-01-04   12480.690430  ...  . Helping Make the Shift From Combat to Commer...\n",
              "2007-01-05   12398.009766  ...  . Rise in Ethanol Raises Concerns About Corn a...\n",
              "...                   ...  ...                                                ...\n",
              "2016-12-27   19945.039062  ...  . Should the U.S. Embassy Be Moved From Tel Av...\n",
              "2016-12-28   19833.679688  ...  . When Finding the Right Lawyer Seems Daunting...\n",
              "2016-12-29   19819.779297  ...  . Does Empathy Guide or Hinder Moral Action?. ...\n",
              "2016-12-30   19762.599609  ...  . Shielding Seized Assets From Corruption’s Cl...\n",
              "2016-12-31   19762.599609  ...  Terrorist Attack at Nightclub in Istanbul Kill...\n",
              "\n",
              "[3653 rows x 3 columns]"
            ]
          },
          "metadata": {},
          "execution_count": 111
        }
      ]
    },
    {
      "cell_type": "code",
      "metadata": {
        "id": "D8OL6ah48AaG"
      },
      "source": [
        "stocks_dataf = stocks_dataf.reset_index().rename(columns = {'index':'Date'})"
      ],
      "execution_count": 114,
      "outputs": []
    },
    {
      "cell_type": "code",
      "metadata": {
        "colab": {
          "base_uri": "https://localhost:8080/",
          "height": 424
        },
        "id": "noNhdI3F8DUs",
        "outputId": "c6f73687-3a5a-4cf9-8445-7d735ace904e"
      },
      "source": [
        "stocks_dataf['adj_close_price'] = stocks_dataf['adj_close_price'].apply(np.int64)\n",
        "stocks_dataf = stocks_dataf[['Date','adj_close_price', 'Tweets']]\n",
        "stocks_dataf['Tweets'] = stocks_dataf['Tweets'].map(lambda x: x.lstrip('.-'))\n",
        "stocks_dataf"
      ],
      "execution_count": 115,
      "outputs": [
        {
          "output_type": "execute_result",
          "data": {
            "text/html": [
              "<div>\n",
              "<style scoped>\n",
              "    .dataframe tbody tr th:only-of-type {\n",
              "        vertical-align: middle;\n",
              "    }\n",
              "\n",
              "    .dataframe tbody tr th {\n",
              "        vertical-align: top;\n",
              "    }\n",
              "\n",
              "    .dataframe thead th {\n",
              "        text-align: right;\n",
              "    }\n",
              "</style>\n",
              "<table border=\"1\" class=\"dataframe\">\n",
              "  <thead>\n",
              "    <tr style=\"text-align: right;\">\n",
              "      <th></th>\n",
              "      <th>Date</th>\n",
              "      <th>Date</th>\n",
              "      <th>adj_close_price</th>\n",
              "      <th>Tweets</th>\n",
              "    </tr>\n",
              "  </thead>\n",
              "  <tbody>\n",
              "    <tr>\n",
              "      <th>0</th>\n",
              "      <td>0</td>\n",
              "      <td>2007-01-01</td>\n",
              "      <td>12469</td>\n",
              "      <td>What Sticks from '06. Somalia Orders Islamist...</td>\n",
              "    </tr>\n",
              "    <tr>\n",
              "      <th>1</th>\n",
              "      <td>1</td>\n",
              "      <td>2007-01-02</td>\n",
              "      <td>12472</td>\n",
              "      <td>Heart Health: Vitamin Does Not Prevent Death ...</td>\n",
              "    </tr>\n",
              "    <tr>\n",
              "      <th>2</th>\n",
              "      <td>2</td>\n",
              "      <td>2007-01-03</td>\n",
              "      <td>12474</td>\n",
              "      <td>Google Answer to Filling Jobs Is an Algorithm...</td>\n",
              "    </tr>\n",
              "    <tr>\n",
              "      <th>3</th>\n",
              "      <td>3</td>\n",
              "      <td>2007-01-04</td>\n",
              "      <td>12480</td>\n",
              "      <td>Helping Make the Shift From Combat to Commerc...</td>\n",
              "    </tr>\n",
              "    <tr>\n",
              "      <th>4</th>\n",
              "      <td>4</td>\n",
              "      <td>2007-01-05</td>\n",
              "      <td>12398</td>\n",
              "      <td>Rise in Ethanol Raises Concerns About Corn as...</td>\n",
              "    </tr>\n",
              "    <tr>\n",
              "      <th>...</th>\n",
              "      <td>...</td>\n",
              "      <td>...</td>\n",
              "      <td>...</td>\n",
              "      <td>...</td>\n",
              "    </tr>\n",
              "    <tr>\n",
              "      <th>3648</th>\n",
              "      <td>3648</td>\n",
              "      <td>2016-12-27</td>\n",
              "      <td>19945</td>\n",
              "      <td>Should the U.S. Embassy Be Moved From Tel Avi...</td>\n",
              "    </tr>\n",
              "    <tr>\n",
              "      <th>3649</th>\n",
              "      <td>3649</td>\n",
              "      <td>2016-12-28</td>\n",
              "      <td>19833</td>\n",
              "      <td>When Finding the Right Lawyer Seems Daunting,...</td>\n",
              "    </tr>\n",
              "    <tr>\n",
              "      <th>3650</th>\n",
              "      <td>3650</td>\n",
              "      <td>2016-12-29</td>\n",
              "      <td>19819</td>\n",
              "      <td>Does Empathy Guide or Hinder Moral Action?. C...</td>\n",
              "    </tr>\n",
              "    <tr>\n",
              "      <th>3651</th>\n",
              "      <td>3651</td>\n",
              "      <td>2016-12-30</td>\n",
              "      <td>19762</td>\n",
              "      <td>Shielding Seized Assets From Corruption’s Clu...</td>\n",
              "    </tr>\n",
              "    <tr>\n",
              "      <th>3652</th>\n",
              "      <td>3652</td>\n",
              "      <td>2016-12-31</td>\n",
              "      <td>19762</td>\n",
              "      <td>Terrorist Attack at Nightclub in Istanbul Kill...</td>\n",
              "    </tr>\n",
              "  </tbody>\n",
              "</table>\n",
              "<p>3653 rows × 4 columns</p>\n",
              "</div>"
            ],
            "text/plain": [
              "      Date  ...                                             Tweets\n",
              "0        0  ...   What Sticks from '06. Somalia Orders Islamist...\n",
              "1        1  ...   Heart Health: Vitamin Does Not Prevent Death ...\n",
              "2        2  ...   Google Answer to Filling Jobs Is an Algorithm...\n",
              "3        3  ...   Helping Make the Shift From Combat to Commerc...\n",
              "4        4  ...   Rise in Ethanol Raises Concerns About Corn as...\n",
              "...    ...  ...                                                ...\n",
              "3648  3648  ...   Should the U.S. Embassy Be Moved From Tel Avi...\n",
              "3649  3649  ...   When Finding the Right Lawyer Seems Daunting,...\n",
              "3650  3650  ...   Does Empathy Guide or Hinder Moral Action?. C...\n",
              "3651  3651  ...   Shielding Seized Assets From Corruption’s Clu...\n",
              "3652  3652  ...  Terrorist Attack at Nightclub in Istanbul Kill...\n",
              "\n",
              "[3653 rows x 4 columns]"
            ]
          },
          "metadata": {},
          "execution_count": 115
        }
      ]
    },
    {
      "cell_type": "code",
      "metadata": {
        "id": "RQ_EEyvN8HXd"
      },
      "source": [
        "dataframe = stocks_dataf[['adj_close_price']].copy()"
      ],
      "execution_count": 116,
      "outputs": []
    },
    {
      "cell_type": "code",
      "metadata": {
        "id": "tVanG4vx8K1Q"
      },
      "source": [
        "dataframe[\"Comp\"] = ''\n",
        "dataframe[\"Negative\"] = ''\n",
        "dataframe[\"Neutral\"] = ''\n",
        "dataframe[\"Positive\"] = ''"
      ],
      "execution_count": 117,
      "outputs": []
    },
    {
      "cell_type": "code",
      "metadata": {
        "colab": {
          "base_uri": "https://localhost:8080/",
          "height": 424
        },
        "id": "m1sr5V2c8O5U",
        "outputId": "a45c9d8d-02fb-400a-8cc4-01155c49a9c5"
      },
      "source": [
        "dataframe\n"
      ],
      "execution_count": 66,
      "outputs": [
        {
          "output_type": "execute_result",
          "data": {
            "text/html": [
              "<div>\n",
              "<style scoped>\n",
              "    .dataframe tbody tr th:only-of-type {\n",
              "        vertical-align: middle;\n",
              "    }\n",
              "\n",
              "    .dataframe tbody tr th {\n",
              "        vertical-align: top;\n",
              "    }\n",
              "\n",
              "    .dataframe thead th {\n",
              "        text-align: right;\n",
              "    }\n",
              "</style>\n",
              "<table border=\"1\" class=\"dataframe\">\n",
              "  <thead>\n",
              "    <tr style=\"text-align: right;\">\n",
              "      <th></th>\n",
              "      <th>adj_close_price</th>\n",
              "      <th>Comp</th>\n",
              "      <th>Negative</th>\n",
              "      <th>Neutral</th>\n",
              "      <th>Positive</th>\n",
              "    </tr>\n",
              "  </thead>\n",
              "  <tbody>\n",
              "    <tr>\n",
              "      <th>0</th>\n",
              "      <td>12469</td>\n",
              "      <td></td>\n",
              "      <td></td>\n",
              "      <td></td>\n",
              "      <td></td>\n",
              "    </tr>\n",
              "    <tr>\n",
              "      <th>1</th>\n",
              "      <td>12472</td>\n",
              "      <td></td>\n",
              "      <td></td>\n",
              "      <td></td>\n",
              "      <td></td>\n",
              "    </tr>\n",
              "    <tr>\n",
              "      <th>2</th>\n",
              "      <td>12474</td>\n",
              "      <td></td>\n",
              "      <td></td>\n",
              "      <td></td>\n",
              "      <td></td>\n",
              "    </tr>\n",
              "    <tr>\n",
              "      <th>3</th>\n",
              "      <td>12480</td>\n",
              "      <td></td>\n",
              "      <td></td>\n",
              "      <td></td>\n",
              "      <td></td>\n",
              "    </tr>\n",
              "    <tr>\n",
              "      <th>4</th>\n",
              "      <td>12398</td>\n",
              "      <td></td>\n",
              "      <td></td>\n",
              "      <td></td>\n",
              "      <td></td>\n",
              "    </tr>\n",
              "    <tr>\n",
              "      <th>...</th>\n",
              "      <td>...</td>\n",
              "      <td>...</td>\n",
              "      <td>...</td>\n",
              "      <td>...</td>\n",
              "      <td>...</td>\n",
              "    </tr>\n",
              "    <tr>\n",
              "      <th>3648</th>\n",
              "      <td>19945</td>\n",
              "      <td></td>\n",
              "      <td></td>\n",
              "      <td></td>\n",
              "      <td></td>\n",
              "    </tr>\n",
              "    <tr>\n",
              "      <th>3649</th>\n",
              "      <td>19833</td>\n",
              "      <td></td>\n",
              "      <td></td>\n",
              "      <td></td>\n",
              "      <td></td>\n",
              "    </tr>\n",
              "    <tr>\n",
              "      <th>3650</th>\n",
              "      <td>19819</td>\n",
              "      <td></td>\n",
              "      <td></td>\n",
              "      <td></td>\n",
              "      <td></td>\n",
              "    </tr>\n",
              "    <tr>\n",
              "      <th>3651</th>\n",
              "      <td>19762</td>\n",
              "      <td></td>\n",
              "      <td></td>\n",
              "      <td></td>\n",
              "      <td></td>\n",
              "    </tr>\n",
              "    <tr>\n",
              "      <th>3652</th>\n",
              "      <td>19762</td>\n",
              "      <td></td>\n",
              "      <td></td>\n",
              "      <td></td>\n",
              "      <td></td>\n",
              "    </tr>\n",
              "  </tbody>\n",
              "</table>\n",
              "<p>3653 rows × 5 columns</p>\n",
              "</div>"
            ],
            "text/plain": [
              "      adj_close_price Comp Negative Neutral Positive\n",
              "0               12469                               \n",
              "1               12472                               \n",
              "2               12474                               \n",
              "3               12480                               \n",
              "4               12398                               \n",
              "...               ...  ...      ...     ...      ...\n",
              "3648            19945                               \n",
              "3649            19833                               \n",
              "3650            19819                               \n",
              "3651            19762                               \n",
              "3652            19762                               \n",
              "\n",
              "[3653 rows x 5 columns]"
            ]
          },
          "metadata": {},
          "execution_count": 66
        }
      ]
    },
    {
      "cell_type": "code",
      "metadata": {
        "colab": {
          "base_uri": "https://localhost:8080/"
        },
        "id": "RtOTTXBk8Sqv",
        "outputId": "3e95fbaf-4d7b-4c14-e841-ae4c02d188f0"
      },
      "source": [
        "import nltk\n",
        "nltk.download('vader_lexicon')"
      ],
      "execution_count": 118,
      "outputs": [
        {
          "output_type": "stream",
          "name": "stdout",
          "text": [
            "[nltk_data] Downloading package vader_lexicon to /root/nltk_data...\n",
            "[nltk_data]   Package vader_lexicon is already up-to-date!\n"
          ]
        },
        {
          "output_type": "execute_result",
          "data": {
            "text/plain": [
              "True"
            ]
          },
          "metadata": {},
          "execution_count": 118
        }
      ]
    },
    {
      "cell_type": "code",
      "metadata": {
        "colab": {
          "base_uri": "https://localhost:8080/"
        },
        "id": "zRzzebJ28WcZ",
        "outputId": "3e54850d-fafe-442c-aca3-7fb30c02cb3c"
      },
      "source": [
        "from nltk.sentiment.vader import SentimentIntensityAnalyzer\n",
        "from nltk.sentiment.vader import SentimentIntensityAnalyzer\n",
        "import unicodedata\n",
        "sentiment_i_a = SentimentIntensityAnalyzer()\n",
        "for indexx, row in dataframe.T.iteritems():\n",
        "    try:\n",
        "        sentence_i = unicodedata.normalize('NFKD', stocks_dataf.loc[indexx, 'Tweets'])\n",
        "        sentence_sentiment = sentiment_i_a.polarity_scores(sentence_i)\n",
        "        dataframe['Comp'].iloc[indexx] = sentence_sentiment['compound']\n",
        "        dataframe['Negative'].iloc[indexx] = sentence_sentiment['neg']\n",
        "        dataframe['Neutral'].iloc[indexx] = sentence_sentiment['neu']\n",
        "        dataframe['Positive'].iloc[indexx] = sentence_sentiment['compound']\n",
        "        # dataframe.set_value(indexx, 'Comp', sentence_sentiment['compound'])\n",
        "        # dataframe.set_value(indexx, 'Negative', sentence_sentiment['neg'])\n",
        "        # dataframe.set_value(indexx, 'Neutral', sentence_sentiment['neu'])\n",
        "        # dataframe.set_value(indexx, 'Positive', sentence_sentiment['pos'])\n",
        "    except TypeError:\n",
        "        print (stocks_dataf.loc[indexx, 'Tweets'])\n",
        "        print (indexx)"
      ],
      "execution_count": 119,
      "outputs": [
        {
          "output_type": "stream",
          "name": "stderr",
          "text": [
            "/usr/local/lib/python3.7/dist-packages/pandas/core/indexing.py:670: SettingWithCopyWarning: \n",
            "A value is trying to be set on a copy of a slice from a DataFrame\n",
            "\n",
            "See the caveats in the documentation: https://pandas.pydata.org/pandas-docs/stable/user_guide/indexing.html#returning-a-view-versus-a-copy\n",
            "  iloc._setitem_with_indexer(indexer, value)\n"
          ]
        }
      ]
    },
    {
      "cell_type": "code",
      "metadata": {
        "colab": {
          "base_uri": "https://localhost:8080/",
          "height": 424
        },
        "id": "QYB3xrFN8p8R",
        "outputId": "72278a2a-469d-439c-d41c-1eae623cdf73"
      },
      "source": [
        "dataframe"
      ],
      "execution_count": 125,
      "outputs": [
        {
          "output_type": "execute_result",
          "data": {
            "text/html": [
              "<div>\n",
              "<style scoped>\n",
              "    .dataframe tbody tr th:only-of-type {\n",
              "        vertical-align: middle;\n",
              "    }\n",
              "\n",
              "    .dataframe tbody tr th {\n",
              "        vertical-align: top;\n",
              "    }\n",
              "\n",
              "    .dataframe thead th {\n",
              "        text-align: right;\n",
              "    }\n",
              "</style>\n",
              "<table border=\"1\" class=\"dataframe\">\n",
              "  <thead>\n",
              "    <tr style=\"text-align: right;\">\n",
              "      <th></th>\n",
              "      <th>adj_close_price</th>\n",
              "      <th>Comp</th>\n",
              "      <th>Negative</th>\n",
              "      <th>Neutral</th>\n",
              "      <th>Positive</th>\n",
              "    </tr>\n",
              "  </thead>\n",
              "  <tbody>\n",
              "    <tr>\n",
              "      <th>0</th>\n",
              "      <td>12469</td>\n",
              "      <td>-0.9814</td>\n",
              "      <td>0.159</td>\n",
              "      <td>0.749</td>\n",
              "      <td>-0.9814</td>\n",
              "    </tr>\n",
              "    <tr>\n",
              "      <th>1</th>\n",
              "      <td>12472</td>\n",
              "      <td>-0.8179</td>\n",
              "      <td>0.114</td>\n",
              "      <td>0.787</td>\n",
              "      <td>-0.8179</td>\n",
              "    </tr>\n",
              "    <tr>\n",
              "      <th>2</th>\n",
              "      <td>12474</td>\n",
              "      <td>-0.9993</td>\n",
              "      <td>0.198</td>\n",
              "      <td>0.737</td>\n",
              "      <td>-0.9993</td>\n",
              "    </tr>\n",
              "    <tr>\n",
              "      <th>3</th>\n",
              "      <td>12480</td>\n",
              "      <td>-0.9982</td>\n",
              "      <td>0.131</td>\n",
              "      <td>0.806</td>\n",
              "      <td>-0.9982</td>\n",
              "    </tr>\n",
              "    <tr>\n",
              "      <th>4</th>\n",
              "      <td>12398</td>\n",
              "      <td>-0.9901</td>\n",
              "      <td>0.124</td>\n",
              "      <td>0.794</td>\n",
              "      <td>-0.9901</td>\n",
              "    </tr>\n",
              "    <tr>\n",
              "      <th>...</th>\n",
              "      <td>...</td>\n",
              "      <td>...</td>\n",
              "      <td>...</td>\n",
              "      <td>...</td>\n",
              "      <td>...</td>\n",
              "    </tr>\n",
              "    <tr>\n",
              "      <th>3648</th>\n",
              "      <td>19945</td>\n",
              "      <td>-0.9898</td>\n",
              "      <td>0.178</td>\n",
              "      <td>0.719</td>\n",
              "      <td>-0.9898</td>\n",
              "    </tr>\n",
              "    <tr>\n",
              "      <th>3649</th>\n",
              "      <td>19833</td>\n",
              "      <td>0.2869</td>\n",
              "      <td>0.128</td>\n",
              "      <td>0.763</td>\n",
              "      <td>0.2869</td>\n",
              "    </tr>\n",
              "    <tr>\n",
              "      <th>3650</th>\n",
              "      <td>19819</td>\n",
              "      <td>-0.9789</td>\n",
              "      <td>0.138</td>\n",
              "      <td>0.764</td>\n",
              "      <td>-0.9789</td>\n",
              "    </tr>\n",
              "    <tr>\n",
              "      <th>3651</th>\n",
              "      <td>19762</td>\n",
              "      <td>-0.995</td>\n",
              "      <td>0.168</td>\n",
              "      <td>0.734</td>\n",
              "      <td>-0.995</td>\n",
              "    </tr>\n",
              "    <tr>\n",
              "      <th>3652</th>\n",
              "      <td>19762</td>\n",
              "      <td>-0.2869</td>\n",
              "      <td>0.173</td>\n",
              "      <td>0.665</td>\n",
              "      <td>-0.2869</td>\n",
              "    </tr>\n",
              "  </tbody>\n",
              "</table>\n",
              "<p>3653 rows × 5 columns</p>\n",
              "</div>"
            ],
            "text/plain": [
              "      adj_close_price    Comp Negative Neutral Positive\n",
              "0               12469 -0.9814    0.159   0.749  -0.9814\n",
              "1               12472 -0.8179    0.114   0.787  -0.8179\n",
              "2               12474 -0.9993    0.198   0.737  -0.9993\n",
              "3               12480 -0.9982    0.131   0.806  -0.9982\n",
              "4               12398 -0.9901    0.124   0.794  -0.9901\n",
              "...               ...     ...      ...     ...      ...\n",
              "3648            19945 -0.9898    0.178   0.719  -0.9898\n",
              "3649            19833  0.2869    0.128   0.763   0.2869\n",
              "3650            19819 -0.9789    0.138   0.764  -0.9789\n",
              "3651            19762  -0.995    0.168   0.734   -0.995\n",
              "3652            19762 -0.2869    0.173   0.665  -0.2869\n",
              "\n",
              "[3653 rows x 5 columns]"
            ]
          },
          "metadata": {},
          "execution_count": 125
        }
      ]
    },
    {
      "cell_type": "code",
      "metadata": {
        "colab": {
          "base_uri": "https://localhost:8080/",
          "height": 300
        },
        "id": "e0ctOW0H80J6",
        "outputId": "4fa40682-e8ec-4f8e-a58a-10d701bb5f9f"
      },
      "source": [
        "posi=0\n",
        "nega=0\n",
        "for i in range (0,len(dataframe)):\n",
        "    get_val=dataframe.Comp[i]\n",
        "    if(float(get_val)<(-0.99)):\n",
        "        nega=nega+1\n",
        "    if(float(get_val>(-0.99))):\n",
        "        posi=posi+1\n",
        "posper=(posi/(len(dataframe)))*100\n",
        "negper=(nega/(len(dataframe)))*100\n",
        "print(\"% of positive tweets= \",posper)\n",
        "print(\"% of negative tweets= \",negper)\n",
        "arr=np.asarray([posper,negper], dtype=int)\n",
        "mlpt.pie(arr,labels=['positive','negative'])\n",
        "mlpt.plot()"
      ],
      "execution_count": 123,
      "outputs": [
        {
          "output_type": "stream",
          "name": "stdout",
          "text": [
            "% of positive tweets=  45.414727621133316\n",
            "% of negative tweets=  54.39364905557076\n"
          ]
        },
        {
          "output_type": "execute_result",
          "data": {
            "text/plain": [
              "[]"
            ]
          },
          "metadata": {},
          "execution_count": 123
        },
        {
          "output_type": "display_data",
          "data": {
            "image/png": "[encoded data removed]",
            "text/plain": [
              "<Figure size 432x288 with 1 Axes>"
            ]
          },
          "metadata": {}
        }
      ]
    }
  ]
}